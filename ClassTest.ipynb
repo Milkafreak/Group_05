{
 "cells": [
  {
   "cell_type": "code",
   "execution_count": 1,
   "id": "1243c8bc-99ff-4ae4-bd6a-6f4b0b4d1640",
   "metadata": {},
   "outputs": [
    {
     "ename": "ModuleNotFoundError",
     "evalue": "No module named 'download'",
     "output_type": "error",
     "traceback": [
      "\u001b[1;31m---------------------------------------------------------------------------\u001b[0m",
      "\u001b[1;31mModuleNotFoundError\u001b[0m                       Traceback (most recent call last)",
      "\u001b[1;32m~\\AppData\\Local\\Temp/ipykernel_20588/1858942176.py\u001b[0m in \u001b[0;36m<module>\u001b[1;34m\u001b[0m\n\u001b[0;32m      4\u001b[0m \u001b[1;33m\u001b[0m\u001b[0m\n\u001b[0;32m      5\u001b[0m \u001b[0msys\u001b[0m\u001b[1;33m.\u001b[0m\u001b[0mpath\u001b[0m\u001b[1;33m.\u001b[0m\u001b[0mappend\u001b[0m\u001b[1;33m(\u001b[0m\u001b[1;34m\".\"\u001b[0m\u001b[1;33m)\u001b[0m\u001b[1;33m\u001b[0m\u001b[1;33m\u001b[0m\u001b[0m\n\u001b[1;32m----> 6\u001b[1;33m \u001b[1;32mfrom\u001b[0m \u001b[0mdownload\u001b[0m \u001b[1;32mimport\u001b[0m \u001b[0mdownload_file\u001b[0m\u001b[1;33m\u001b[0m\u001b[1;33m\u001b[0m\u001b[0m\n\u001b[0m\u001b[0;32m      7\u001b[0m \u001b[1;33m\u001b[0m\u001b[0m\n\u001b[0;32m      8\u001b[0m \u001b[1;32mclass\u001b[0m \u001b[0mEnergy\u001b[0m\u001b[1;33m:\u001b[0m\u001b[1;33m\u001b[0m\u001b[1;33m\u001b[0m\u001b[0m\n",
      "\u001b[1;31mModuleNotFoundError\u001b[0m: No module named 'download'"
     ]
    }
   ],
   "source": [
    "import sys\n",
    "import matplotlib.pyplot as plt\n",
    "import pandas as pd\n",
    "\n",
    "sys.path.append(\".\")\n",
    "from download import download_file\n",
    "\n",
    "class Energy:\n",
    "    \n",
    "    def __init__(self, link):\n",
    "        self.link = link \n",
    "    \n",
    "    def dowload(self):\n",
    "        self.data = download_file(self.link, \"Energy.csv\")\n",
    "        return self.data\n",
    "    \n",
    "    def country_list(self):\n",
    "        self.data = download_file(self.link, \"Energy.csv\")\n",
    "        return self.data[\"country\"].unique()\n",
    "    \n",
    "    def plot_consumption(self,country: str,normalize: bool):\n",
    "        self.data = download_file(self.link, \"Energy.csv\")\n",
    "        \n",
    "        if country not in self.data[\"country\"].unique():\n",
    "            print(\"Error\")\n",
    "        else:\n",
    "            df2 = self.data[self.data[\"country\"] == country][self.data.columns[self.data.columns.str.contains(\"_consumption|country|year\")]]\n",
    "            liste = []\n",
    "            for x in df2.columns:\n",
    "                liste.append(x)\n",
    "            liste = liste[2:]\n",
    "            x = df2[\"year\"]\n",
    "            for y in liste:\n",
    "                i = df2[y]\n",
    "                plt.plot(x,i,label = y)\n",
    "                plt.legend()"
   ]
  },
  {
   "cell_type": "code",
   "execution_count": null,
   "id": "fd65837c-53ae-498e-babd-8361e116408b",
   "metadata": {},
   "outputs": [],
   "source": [
    "x = Energy(\"https://raw.githubusercontent.com/owid/energy-data/master/owid-energy-data.csv\")\n"
   ]
  },
  {
   "cell_type": "code",
   "execution_count": null,
   "id": "d82f8e6b-a18b-4aae-8aa6-4ac6bd24c895",
   "metadata": {},
   "outputs": [],
   "source": [
    "df = x.dowload()"
   ]
  },
  {
   "cell_type": "code",
   "execution_count": null,
   "id": "2d43f79a",
   "metadata": {},
   "outputs": [],
   "source": [
    "x.plot_consumption(\"Germany\")"
   ]
  },
  {
   "cell_type": "code",
   "execution_count": null,
   "id": "3666a620",
   "metadata": {},
   "outputs": [],
   "source": [
    "x.country_list()"
   ]
  },
  {
   "cell_type": "code",
   "execution_count": null,
   "id": "9de087f1",
   "metadata": {},
   "outputs": [],
   "source": []
  }
 ],
 "metadata": {
  "kernelspec": {
   "display_name": "Python 3 (ipykernel)",
   "language": "python",
   "name": "python3"
  },
  "language_info": {
   "codemirror_mode": {
    "name": "ipython",
    "version": 3
   },
   "file_extension": ".py",
   "mimetype": "text/x-python",
   "name": "python",
   "nbconvert_exporter": "python",
   "pygments_lexer": "ipython3",
   "version": "3.9.7"
  }
 },
 "nbformat": 4,
 "nbformat_minor": 5
}
