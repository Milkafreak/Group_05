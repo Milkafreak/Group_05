{
 "cells": [
  {
   "cell_type": "code",
   "execution_count": 194,
   "id": "3ba49c18-2519-45ec-b24e-e7159bf8bc41",
   "metadata": {},
   "outputs": [],
   "source": [
    "#pylint: disable=wrong-import-position\n",
    "# pylint: disable=no-member\n",
    "import sys\n",
    "import matplotlib.pyplot as plt # type: ignore\n",
    "import pandas as pd # type: ignore\n",
    "sys.path.append(\"./Methods\")\n",
    "plt.style.use('seaborn')\n",
    "#pylint: disable=wrong-import-position\n",
    "from download import download_file #pylint: disable=wrong-import-position\n",
    "from emission import add_emission #pylint: disable=wrong-import-position\n",
    "\n",
    "class EnergyClass:\n",
    "    '''\n",
    "    class that contain different methods that works\n",
    "    with data related to energy consumption worldwide\n",
    "    Parameters\n",
    "    depend on the method called\n",
    "    ------------\n",
    "    Returns\n",
    "    depend on the method called\n",
    "    ---------\n",
    "    '''\n",
    "    def __init__ (self):\n",
    "        '''\n",
    "        Init method of the class EnergyClass\n",
    "        Parameters\n",
    "        nothing\n",
    "        ------------\n",
    "        Returns\n",
    "        nothing\n",
    "        ---------\n",
    "        '''\n",
    "        self.data = \"\"\n",
    "        self.file = False\n",
    "        download_file()\n",
    "    def download(self):\n",
    "        '''\n",
    "        Download Energy.csv file and assign it to variable named data as pandas dataframe\n",
    "        Parameters\n",
    "        ------------\n",
    "        Returns\n",
    "        ---------\n",
    "        '''\n",
    "        self.data = pd.read_csv(\"./Download/Energy.csv\")\n",
    "        self.data = self.data[self.data[\"year\"]>= 1970]\n",
    "        add_emission(self.data)\n",
    "        self.file = True\n",
    "    def energy_compare(self, countries: list):\n",
    "        '''\n",
    "        Takes a list of countries and iterates over it to find the\\\n",
    "        respective value in the dataset for the total energy consumed\\\n",
    "\n",
    "        Appends each country element to loca : list\n",
    "        Appends each value of that country's consumption to val : list\n",
    "\n",
    "        Plot a barchart of each country in the list and their\\\n",
    "        energy consumption for the sake of comparison\n",
    "\n",
    "        Parameters\n",
    "        ---------------\n",
    "        countries: list\n",
    "            list of country strings\n",
    "\n",
    "        Output\n",
    "        ---------------\n",
    "        figure: BarContainer\n",
    "            compare the total consumption of each country\n",
    "        '''\n",
    "        if self.file is False:\n",
    "            self.download()\n",
    "        #get the df of the consumption columns\n",
    "        df_consumption = self.data.filter(like = \"_consumption\")\n",
    "        df_country = self.data[[\"country\",\"emissions\"]]#get the df of the country column\n",
    "        #merge the two dfs into 'df' having the columns of country and all the consumptions\n",
    "        df_countries = pd.merge(df_country, df_consumption, left_index = True, right_index = True)\n",
    "        #group by countries and compute the averge of each consumption over the years\n",
    "        #'new_df' having index label as country and counsumptions columns\n",
    "        new_df = df_countries.groupby(\"country\").mean()\n",
    "        #compute the sum of all consumptions into TOTAL\n",
    "        new_df[\"TOTAL_energy_consumption\"] = new_df.iloc[:,1:].sum(axis = 1)\n",
    "        final_df = new_df[[\"TOTAL_energy_consumption\", \"emissions\"]]\n",
    "        f_df = final_df.reset_index()\n",
    "        loca = []\n",
    "        val = []\n",
    "        emis = []\n",
    "        for country in countries:\n",
    "            if country not in f_df[\"country\"].tolist():\n",
    "                raise ValueError(f\"Country {country} not on the list of countries\")\n",
    "            value = f_df[f_df[\"country\"] == country][\"TOTAL_energy_consumption\"].values[0]\n",
    "            value_emis = f_df[f_df[\"country\"] == country][\"emissions\"].values[0]\n",
    "            loca.append(country)\n",
    "            val.append(value)\n",
    "            emis.append(value_emis)\n",
    "        df_plot = pd.DataFrame({'Energy': val, 'Emission': emis, \"Country\": loca}, columns=['Energy', 'Emission','Country'])\n",
    "        fig, ax1 = plt.subplots()\n",
    "        ax1.set_xlabel(\"Countries\")\n",
    "        ax1.bar(df_plot[\"Country\"], df_plot[\"Energy\"], color=\"blue\")\n",
    "        ax1.tick_params(axis='y', labelcolor=\"blue\")\n",
    "        ax2 = ax1.twinx()\n",
    "        ax2.plot(df_plot[\"Country\"], df_plot[\"Emission\"], color=\"red\", linestyle='dashed')\n",
    "        ax2.tick_params(axis='y', labelcolor=\"red\")\n",
    "        plt.grid(False)\n",
    "        plt.show()\n",
    "        \n",
    "     \n",
    "        #METHOD 5"
   ]
  },
  {
   "cell_type": "code",
   "execution_count": 195,
   "id": "f25588d2-fe77-48e6-b8ff-93900f14ad9a",
   "metadata": {},
   "outputs": [
    {
     "name": "stdout",
     "output_type": "stream",
     "text": [
      "File already exists !\n"
     ]
    }
   ],
   "source": [
    "x = EnergyClass()"
   ]
  },
  {
   "cell_type": "code",
   "execution_count": 196,
   "id": "c0142d41-41cc-4b5d-8231-230bc0fb2c83",
   "metadata": {},
   "outputs": [],
   "source": [
    "x.download()"
   ]
  },
  {
   "cell_type": "code",
   "execution_count": 197,
   "id": "c6ee892e-05eb-4b5b-ab7c-50556ea46f1a",
   "metadata": {},
   "outputs": [
    {
     "data": {
      "image/png": "[encoded data removed]",
      "text/plain": [
       "<Figure size 576x396 with 2 Axes>"
      ]
     },
     "metadata": {},
     "output_type": "display_data"
    }
   ],
   "source": [
    "x.energy_compare([\"Morocco\",\"Algeria\",\"China\"])"
   ]
  },
  {
   "cell_type": "code",
   "execution_count": null,
   "id": "e137b8c3-7751-4d72-8b19-dca428c6109a",
   "metadata": {},
   "outputs": [],
   "source": []
  }
 ],
 "metadata": {
  "kernelspec": {
   "display_name": "Python 3 (ipykernel)",
   "language": "python",
   "name": "python3"
  },
  "language_info": {
   "codemirror_mode": {
    "name": "ipython",
    "version": 3
   },
   "file_extension": ".py",
   "mimetype": "text/x-python",
   "name": "python",
   "nbconvert_exporter": "python",
   "pygments_lexer": "ipython3",
   "version": "3.9.7"
  }
 },
 "nbformat": 4,
 "nbformat_minor": 5
}
