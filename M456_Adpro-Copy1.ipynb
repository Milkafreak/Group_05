{
 "cells": [
  {
   "cell_type": "code",
   "execution_count": 1,
   "id": "d40fdeee-5b4d-4cf1-97e1-da47cdc39c76",
   "metadata": {},
   "outputs": [],
   "source": [
    "import sys\n",
    "sys.path.append(\".\")\n",
    "import matplotlib.pyplot as plt\n",
    "import pandas as pd\n",
    "import numpy as np\n",
    "plt.style.use('seaborn')\n",
    "\n",
    "from download import download_file\n",
    "\n",
    "class Energy:\n",
    "    \n",
    "    def __init__(self, link):\n",
    "        self.link = link \n",
    "    \n",
    "    def dowload(self):\n",
    "        self.data = download_file(self.link, \"Energy.csv\")\n",
    "        return self.data"
   ]
  },
  {
   "cell_type": "code",
   "execution_count": null,
   "id": "f30d5749-f689-480f-9eb2-08674212d4ff",
   "metadata": {},
   "outputs": [],
   "source": [
    "def analyse_data(a, b):\n",
    "    try:\n",
    "        if a › 0:\n",
    "raise\n",
    "except:\n",
    "a s\n",
    "else:\n",
    "= a -\n",
    "finally:\n",
    "a +3 1\n",
    "return 2\n",
    "return a\n",
    "dummy list = [1\n",
    "for i in range (10000000000000000000):\n",
    "dummy_list.append (analyse data(i, 1))"
   ]
  },
  {
   "cell_type": "code",
   "execution_count": null,
   "id": "39421b5f-757d-4b0b-a2f4-e147c27d926f",
   "metadata": {},
   "outputs": [],
   "source": [
    "x = Energy(\"https://raw.githubusercontent.com/owid/energy-data/master/owid-energy-data.csv\")\n",
    "\n"
   ]
  },
  {
   "cell_type": "code",
   "execution_count": null,
   "id": "94708a1d-6dd7-4b1d-a4eb-7486a83e5b2c",
   "metadata": {},
   "outputs": [],
   "source": [
    "DF = x.dowload()"
   ]
  },
  {
   "cell_type": "code",
   "execution_count": null,
   "id": "73712adb-82e3-4230-9062-f80cd17622ec",
   "metadata": {},
   "outputs": [],
   "source": [
    "#DF"
   ]
  },
  {
   "cell_type": "code",
   "execution_count": null,
   "id": "1674d4bd-1fe6-4ee3-a489-e963d48c43ec",
   "metadata": {},
   "outputs": [],
   "source": [
    "#DF.filter(like = \"_consumption\")"
   ]
  },
  {
   "cell_type": "markdown",
   "id": "816611ed-cde4-4b11-9dce-0ca7fc0439f9",
   "metadata": {},
   "source": [
    "###################\n",
    "\n",
    "# METHOD 4 + 5 + 6\n",
    "\n"
   ]
  },
  {
   "cell_type": "code",
   "execution_count": null,
   "id": "0da172f3-9a6d-4008-83e1-208508008bbe",
   "metadata": {},
   "outputs": [],
   "source": [
    "import matplotlib.pyplot as plt\n",
    "import pandas as pd\n",
    "import numpy as np\n",
    "plt.style.use('seaborn')"
   ]
  },
  {
   "cell_type": "code",
   "execution_count": null,
   "id": "86851162-e887-4a04-a4ff-bc47e6c85b68",
   "metadata": {},
   "outputs": [],
   "source": [
    "DF_consumption = DF.filter(like = \"_consumption\") #get the df of the consumption columns\n",
    "DF_country = DF[[\"country\"]]#get the df of the country column\n",
    "\n",
    "#merge the two dfs into 'df' having the columns of country and all the consumptions\n",
    "df = pd.merge(DF_country, DF_consumption, left_index = True, right_index = True)\n",
    "\n",
    "#group by countries and compute the averge of each consumption over the years\n",
    "#'new_df' having index label as country and counsumptions columns\n",
    "new_df = df.groupby(\"country\").mean()\n",
    "\n",
    "#compute the sum of all consumptions into TOTAL\n",
    "new_df[\"TOTAL_energy_consumption\"] = new_df.iloc[:,:].sum(axis = 1)\n",
    "final_DF = new_df[[\"TOTAL_energy_consumption\"]]\n",
    "FDF = final_DF.reset_index()\n",
    "\n",
    "\n",
    "#METHOD 4\n",
    "def energy_compare (countries):\n",
    "    \n",
    "    \"\"\"\n",
    "    Takes a list of countries and iterates over it to find the\\\n",
    "    respective value in the dataset for the total energy consumed\\\n",
    "    \n",
    "    Appends each country element to loca : list\n",
    "    Appends each value of that country's consumption to val : list\n",
    "    \n",
    "    Plot a barchart of each country in the list and their\\\n",
    "    energy consumption for the sake of comparison\n",
    "\n",
    "    Parameters\n",
    "    ---------------\n",
    "    countries: list\n",
    "        list of country strings\n",
    "        \n",
    "    Output\n",
    "    ---------------\n",
    "    figure: BarContainer\n",
    "        compare the total consumption of each country\n",
    "    \"\"\"\n",
    "    \n",
    "    loca = []\n",
    "    val = []\n",
    "    for country in countries:\n",
    "        e = FDF[FDF[\"country\"] == country][\"TOTAL_energy_consumption\"].values[0]\n",
    "        loca.append(country)\n",
    "        val.append(e)\n",
    "        \n",
    "    fig = plt.figure(figsize = (10, 5))\n",
    " \n",
    "    plt.bar(loca, val, color ='purple', width = 0.8)\n",
    " \n",
    "    plt.xlabel(\"Countries\")\n",
    "    plt.ylabel(\"Energy Consumption\")\n",
    "    plt.title(\"Total Energy consumption per Country\")\n",
    "    plt.show()\n",
    "    \n",
    "        "
   ]
  },
  {
   "cell_type": "code",
   "execution_count": null,
   "id": "5fb7c49c-9671-417b-9195-392785d5aed2",
   "metadata": {},
   "outputs": [],
   "source": [
    "#create new dataframe made of three columns: \"country\", \"year\", and \"gdp\"\n",
    "gdp_DF = DF[[\"country\", \"year\", \"gdp\"]]\n",
    "\n",
    "\n",
    "#METHOD 5\n",
    "def gdp_compare(countries):\n",
    "    \n",
    "    \"\"\"\n",
    "    Takes a list of countries and iterates over it to create a\\\n",
    "    dataframe temp : DataFrame for each country and plots\\\n",
    "    the column \"gdp\" of that country over the years\n",
    "    \n",
    "\n",
    "    Parameters\n",
    "    ---------------\n",
    "    countries: list\n",
    "        list of country strings\n",
    "        \n",
    "    Output\n",
    "    ---------------\n",
    "    figure: AxesSubplot\n",
    "        compare the gdp of each country over the years\n",
    "    \"\"\"\n",
    "    \n",
    "    figure, axis = plt.subplots()\n",
    "    for country in countries:\n",
    "        temp = gdp_DF[gdp_DF[\"country\"] == country]\n",
    "        temp.plot(ax = axis, x = \"year\", y = \"gdp\", label = country\\\n",
    "                 ,title = \"GDP of the years\")\n",
    "    plt.show()\n",
    "    \n",
    "\n",
    "        "
   ]
  },
  {
   "cell_type": "code",
   "execution_count": null,
   "id": "37c5e8d3-77d1-400c-9e33-0952ffcfd878",
   "metadata": {},
   "outputs": [],
   "source": [
    "#'edf' having one column representing the sum of all consumptions per country per year\n",
    "edf = DF.filter(like = \"_consumption\").sum(axis = 1).to_frame()\n",
    "rdf = DF[[\"country\", \"year\", \"gdp\", \"population\"]]\n",
    "gapminder_df = pd.merge(rdf, edf, left_index = True, right_index = True)\n",
    "\n",
    "#METHOD 6\n",
    "def gapminder(year):\n",
    "    \"\"\"\n",
    "    Takes an argument representing the year\\\n",
    "    if the argument is not an int, raises TypeError, else\\\n",
    "    plots scatter plot for the given year with the x-axis\\\n",
    "    the GDP and y-axis the total consumption. \n",
    "    the size of the scatters is proportional to the population\n",
    "    \n",
    "    Parameters\n",
    "    ---------------\n",
    "    year: int\n",
    "        Year where the energy consumptions are summed and plotted\n",
    "    \n",
    "    Output\n",
    "    ---------------\n",
    "    figure: ScatterPlot\n",
    "        In reference to the gapminder tool\n",
    "    \"\"\"\n",
    "    \n",
    "    if type(year) not in [int]:\n",
    "        raise TypeError(\"variable 'Year' is not an int\")\n",
    "        return\n",
    "    \n",
    "    t = gapminder_df.groupby(\"year\").get_group(year)\n",
    "    t = t.set_axis([\"country\", \"year\", \"gdp\", \"population\", \"energy\"], axis = 1)\n",
    "    t = t[t[\"country\"] != \"World\"]\n",
    "    t[\"population\"] = (t[\"population\"]/1000000).round(2)\n",
    "    \n",
    "    plt.scatter(t[\"gdp\"],t[\"energy\"], s=t[\"population\"], alpha = 0.8)\n",
    "    plt.xlabel(\"GDP of countries\")\n",
    "    plt.ylabel(\"Energy consumption\")\n",
    "    plt.title(f\"Gapminder scatter of Energy consumed per GDP of countries in {year}\")\n",
    "    plt.xscale(\"log\")\n",
    "    plt.yscale(\"log\")\n",
    "    plt.show()\n",
    "    "
   ]
  },
  {
   "cell_type": "code",
   "execution_count": null,
   "id": "11a281d2-7c8d-4960-b6cc-fa3106d4856c",
   "metadata": {},
   "outputs": [],
   "source": [
    "energy_compare([\"Afghanistan\", \"Albania\", \"Yemen\", \"Morocco\", \"Tunisia\"])"
   ]
  },
  {
   "cell_type": "code",
   "execution_count": null,
   "id": "4b80608c-53c1-4d09-a065-d3eb5764f47e",
   "metadata": {},
   "outputs": [],
   "source": [
    "gdp_compare([\"Afghanistan\", \"Albania\", \"Yemen\", \"Morocco\", \"Tunisia\"])"
   ]
  },
  {
   "cell_type": "code",
   "execution_count": null,
   "id": "adde8b6c-eddd-4c8d-9d50-e4b987a7a441",
   "metadata": {},
   "outputs": [],
   "source": [
    "gapminder(2007)"
   ]
  },
  {
   "cell_type": "code",
   "execution_count": null,
   "id": "d2605ae9-a253-4f07-bb1b-f95aa3f4472a",
   "metadata": {},
   "outputs": [],
   "source": [
    "#plt.plot(te[\"gdp\"],te[\"energy\"] , \"\", linestyle='', marker='o', markersize=2) could be used for same scatters size all over"
   ]
  },
  {
   "cell_type": "code",
   "execution_count": null,
   "id": "2133c949-d100-4f57-b776-3735c3bf5bfd",
   "metadata": {},
   "outputs": [],
   "source": []
  }
 ],
 "metadata": {
  "kernelspec": {
   "display_name": "Python 3",
   "language": "python",
   "name": "python3"
  },
  "language_info": {
   "codemirror_mode": {
    "name": "ipython",
    "version": 3
   },
   "file_extension": ".py",
   "mimetype": "text/x-python",
   "name": "python",
   "nbconvert_exporter": "python",
   "pygments_lexer": "ipython3",
   "version": "3.8.8"
  }
 },
 "nbformat": 4,
 "nbformat_minor": 5
}
