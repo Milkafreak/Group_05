{
 "cells": [
  {
   "cell_type": "code",
   "execution_count": 18,
   "id": "014150b6",
   "metadata": {},
   "outputs": [],
   "source": [
    "import pandas as pd\n",
    "import matplotlib.pyplot as plt"
   ]
  },
  {
   "cell_type": "code",
   "execution_count": 19,
   "id": "c2254eae",
   "metadata": {},
   "outputs": [],
   "source": [
    "year = 1990\n",
    "df = pd.read_csv(\"Download/Energy.csv\")"
   ]
  },
  {
   "cell_type": "code",
   "execution_count": 20,
   "id": "0e5df213",
   "metadata": {},
   "outputs": [],
   "source": [
    "df = df[df[\"year\"] > 1969]"
   ]
  },
  {
   "cell_type": "code",
   "execution_count": 21,
   "id": "0e81d419",
   "metadata": {},
   "outputs": [],
   "source": [
    "df = df.set_index(\"year\")"
   ]
  },
  {
   "cell_type": "code",
   "execution_count": 22,
   "id": "cf8a4d9a",
   "metadata": {},
   "outputs": [],
   "source": [
    "df.index = pd.to_datetime(df.index,format=\"%Y\")"
   ]
  },
  {
   "cell_type": "code",
   "execution_count": 23,
   "id": "3512e6e1",
   "metadata": {},
   "outputs": [],
   "source": [
    "countries = [\"Morocco\",\"France\",\"China\"]"
   ]
  },
  {
   "cell_type": "code",
   "execution_count": 26,
   "id": "02be9bd3",
   "metadata": {},
   "outputs": [
    {
     "data": {
      "image/png": "[encoded data removed]",
      "text/plain": [
       "<Figure size 720x360 with 1 Axes>"
      ]
     },
     "metadata": {
      "needs_background": "light"
     },
     "output_type": "display_data"
    }
   ],
   "source": [
    "df_consumption = df.filter(like = \"_consumption\").drop([\"fossil_fuel_consumption\",\"low_carbon_consumption\",\"renewables_consumption\",\"primary_energy_consumption\"],axis=1)\n",
    "df_country = df[[\"country\"]]#get the df of the country column\n",
    "#merge the two dfs into 'df' having the columns of country and all the consumptions\n",
    "df_countries = pd.concat([df_country, df_consumption],axis=1)\n",
    "#group by countries and compute the averge of each consumption over the years\n",
    "#'new_df' having index label as country and counsumptions columns\n",
    "new_df = df_countries.groupby(\"country\").mean()\n",
    "#compute the sum of all consumptions into TOTAL\n",
    "new_df[\"TOTAL_energy_consumption\"] = new_df.iloc[:,:].sum(axis = 1)\n",
    "final_df = new_df[[\"TOTAL_energy_consumption\"]]\n",
    "f_df = final_df.reset_index()\n",
    "loca = []\n",
    "val = []\n",
    "for country in countries:\n",
    "    if country not in f_df[\"country\"].tolist():\n",
    "        raise ValueError(f\"Country {country} not on the list of countries\")\n",
    "    value = f_df[f_df[\"country\"] == country][\"TOTAL_energy_consumption\"].values[0]\n",
    "    loca.append(country)\n",
    "    val.append(value)\n",
    "fig = plt.figure(figsize = (10, 5)) # pylint: disable=unused-variable\n",
    "plt.bar(loca, val, color ='purple', width = 0.8)\n",
    "plt.xlabel(\"Countries\")\n",
    "plt.ylabel(\"Energy Consumption\")\n",
    "plt.title(\"Total Energy consumption per Country\")\n",
    "plt.show()"
   ]
  },
  {
   "cell_type": "code",
   "execution_count": null,
   "id": "8023e693",
   "metadata": {},
   "outputs": [],
   "source": []
  }
 ],
 "metadata": {
  "kernelspec": {
   "display_name": "Python 3 (ipykernel)",
   "language": "python",
   "name": "python3"
  },
  "language_info": {
   "codemirror_mode": {
    "name": "ipython",
    "version": 3
   },
   "file_extension": ".py",
   "mimetype": "text/x-python",
   "name": "python",
   "nbconvert_exporter": "python",
   "pygments_lexer": "ipython3",
   "version": "3.9.7"
  }
 },
 "nbformat": 4,
 "nbformat_minor": 5
}
