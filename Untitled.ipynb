{
 "cells": [
  {
   "cell_type": "code",
   "execution_count": 1,
   "id": "014150b6",
   "metadata": {},
   "outputs": [],
   "source": [
    "import pandas as pd\n",
    "import matplotlib.pyplot as plt"
   ]
  },
  {
   "cell_type": "code",
   "execution_count": 2,
   "id": "c2254eae",
   "metadata": {},
   "outputs": [],
   "source": [
    "year = 1990\n",
    "df = pd.read_csv(\"Download/Energy.csv\")"
   ]
  },
  {
   "cell_type": "code",
   "execution_count": 3,
   "id": "0e5df213",
   "metadata": {},
   "outputs": [],
   "source": [
    "df = df[df[\"year\"] > 1969]"
   ]
  },
  {
   "cell_type": "code",
   "execution_count": 4,
   "id": "0e81d419",
   "metadata": {},
   "outputs": [],
   "source": [
    "df = df.set_index(\"year\")"
   ]
  },
  {
   "cell_type": "code",
   "execution_count": 5,
   "id": "cf8a4d9a",
   "metadata": {},
   "outputs": [],
   "source": [
    "df.index = pd.to_datetime(df.index,format=\"%Y\")"
   ]
  },
  {
   "cell_type": "code",
   "execution_count": 6,
   "id": "80328bdd",
   "metadata": {},
   "outputs": [],
   "source": [
    "countries = [\"Morocco\",\"France\",\"China\"]"
   ]
  },
  {
   "cell_type": "code",
   "execution_count": 16,
   "id": "02be9bd3",
   "metadata": {},
   "outputs": [
    {
     "data": {
      "text/plain": [
       "<matplotlib.legend.Legend at 0x1581ec5b190>"
      ]
     },
     "execution_count": 16,
     "metadata": {},
     "output_type": "execute_result"
    },
    {
     "data": {
      "image/png": "[encoded data removed]",
      "text/plain": [
       "<Figure size 432x288 with 1 Axes>"
      ]
     },
     "metadata": {
      "needs_background": "light"
     },
     "output_type": "display_data"
    }
   ],
   "source": [
    "gdp_df = df[[\"country\", \"gdp\"]]\n",
    "figure, axis = plt.subplots() # pylint: disable=unused-variable\n",
    "temp = []\n",
    "flag = 0\n",
    "for country in countries:\n",
    "    if country not in gdp_df[\"country\"].tolist():\n",
    "        raise ValueError(f\"Country {country} not on the list of countries\")\n",
    "    element = gdp_df[gdp_df[\"country\"] == country]\n",
    "    plt.plot(element.index.year,element[\"gdp\"], label = country)\n",
    "plt.title(\"GDP over the years\")\n",
    "plt.legend()"
   ]
  },
  {
   "cell_type": "code",
   "execution_count": 15,
   "id": "8a770b14",
   "metadata": {},
   "outputs": [
    {
     "data": {
      "text/plain": [
       "[            country           gdp\n",
       " year                             \n",
       " 1970-01-01  Morocco  4.791791e+10\n",
       " 1971-01-01  Morocco  5.060293e+10\n",
       " 1972-01-01  Morocco  5.181571e+10\n",
       " 1973-01-01  Morocco  5.366269e+10\n",
       " 1974-01-01  Morocco  5.656411e+10\n",
       " 1975-01-01  Morocco  6.034804e+10\n",
       " 1976-01-01  Morocco  6.699366e+10\n",
       " 1977-01-01  Morocco  7.027654e+10\n",
       " 1978-01-01  Morocco  7.231209e+10\n",
       " 1979-01-01  Morocco  7.562420e+10\n",
       " 1980-01-01  Morocco  8.250796e+10\n",
       " 1981-01-01  Morocco  8.023738e+10\n",
       " 1982-01-01  Morocco  8.796665e+10\n",
       " 1983-01-01  Morocco  8.744050e+10\n",
       " 1984-01-01  Morocco  9.110458e+10\n",
       " 1985-01-01  Morocco  9.682366e+10\n",
       " 1986-01-01  Morocco  1.040000e+11\n",
       " 1987-01-01  Morocco  1.020000e+11\n",
       " 1988-01-01  Morocco  1.120000e+11\n",
       " 1989-01-01  Morocco  1.150000e+11\n",
       " 1990-01-01  Morocco  1.190000e+11\n",
       " 1991-01-01  Morocco  1.280000e+11\n",
       " 1992-01-01  Morocco  1.250000e+11\n",
       " 1993-01-01  Morocco  1.240000e+11\n",
       " 1994-01-01  Morocco  1.380000e+11\n",
       " 1995-01-01  Morocco  1.300000e+11\n",
       " 1996-01-01  Morocco  1.520000e+11\n",
       " 1997-01-01  Morocco  1.420000e+11\n",
       " 1998-01-01  Morocco  1.420000e+11\n",
       " 1999-01-01  Morocco  1.370000e+11\n",
       " 2000-01-01  Morocco  1.330000e+11\n",
       " 2001-01-01  Morocco  1.350000e+11\n",
       " 2002-01-01  Morocco  1.340000e+11\n",
       " 2003-01-01  Morocco  1.390000e+11\n",
       " 2004-01-01  Morocco  1.380000e+11\n",
       " 2005-01-01  Morocco  1.370000e+11\n",
       " 2006-01-01  Morocco  1.510000e+11\n",
       " 2007-01-01  Morocco  1.630000e+11\n",
       " 2008-01-01  Morocco  1.850000e+11\n",
       " 2009-01-01  Morocco  1.990000e+11\n",
       " 2010-01-01  Morocco  2.150000e+11\n",
       " 2011-01-01  Morocco  2.380000e+11\n",
       " 2012-01-01  Morocco  2.440000e+11\n",
       " 2013-01-01  Morocco  2.510000e+11\n",
       " 2014-01-01  Morocco  2.490000e+11\n",
       " 2015-01-01  Morocco  2.600000e+11\n",
       " 2016-01-01  Morocco  2.640000e+11\n",
       " 2017-01-01  Morocco           NaN\n",
       " 2018-01-01  Morocco           NaN\n",
       " 2019-01-01  Morocco           NaN,\n",
       "            country           gdp\n",
       " year                            \n",
       " 1970-01-01  France  8.690000e+11\n",
       " 1971-01-01  France  9.180000e+11\n",
       " 1972-01-01  France  9.670000e+11\n",
       " 1973-01-01  France  1.020000e+12\n",
       " 1974-01-01  France  1.050000e+12\n",
       " 1975-01-01  France  1.060000e+12\n",
       " 1976-01-01  France  1.110000e+12\n",
       " 1977-01-01  France  1.150000e+12\n",
       " 1978-01-01  France  1.190000e+12\n",
       " 1979-01-01  France  1.230000e+12\n",
       " 1980-01-01  France  1.250000e+12\n",
       " 1981-01-01  France  1.220000e+12\n",
       " 1982-01-01  France  1.230000e+12\n",
       " 1983-01-01  France  1.210000e+12\n",
       " 1984-01-01  France  1.190000e+12\n",
       " 1985-01-01  France  1.180000e+12\n",
       " 1986-01-01  France  1.240000e+12\n",
       " 1987-01-01  France  1.270000e+12\n",
       " 1988-01-01  France  1.340000e+12\n",
       " 1989-01-01  France  1.390000e+12\n",
       " 1990-01-01  France  1.420000e+12\n",
       " 1991-01-01  France  1.440000e+12\n",
       " 1992-01-01  France  1.460000e+12\n",
       " 1993-01-01  France  1.450000e+12\n",
       " 1994-01-01  France  1.490000e+12\n",
       " 1995-01-01  France  1.510000e+12\n",
       " 1996-01-01  France  1.530000e+12\n",
       " 1997-01-01  France  1.630000e+12\n",
       " 1998-01-01  France  1.740000e+12\n",
       " 1999-01-01  France  1.810000e+12\n",
       " 2000-01-01  France  1.930000e+12\n",
       " 2001-01-01  France  2.010000e+12\n",
       " 2002-01-01  France  2.050000e+12\n",
       " 2003-01-01  France  1.960000e+12\n",
       " 2004-01-01  France  2.020000e+12\n",
       " 2005-01-01  France  2.110000e+12\n",
       " 2006-01-01  France  2.170000e+12\n",
       " 2007-01-01  France  2.290000e+12\n",
       " 2008-01-01  France  2.300000e+12\n",
       " 2009-01-01  France  2.280000e+12\n",
       " 2010-01-01  France  2.330000e+12\n",
       " 2011-01-01  France  2.390000e+12\n",
       " 2012-01-01  France  2.410000e+12\n",
       " 2013-01-01  France  2.500000e+12\n",
       " 2014-01-01  France  2.530000e+12\n",
       " 2015-01-01  France  2.560000e+12\n",
       " 2016-01-01  France  2.600000e+12\n",
       " 2017-01-01  France           NaN\n",
       " 2018-01-01  France           NaN\n",
       " 2019-01-01  France           NaN\n",
       " 2020-01-01  France           NaN\n",
       " 2021-01-01  France           NaN,\n",
       "            country           gdp\n",
       " year                            \n",
       " 1970-01-01   China  1.060000e+12\n",
       " 1971-01-01   China  1.140000e+12\n",
       " 1972-01-01   China  1.130000e+12\n",
       " 1973-01-01   China  1.210000e+12\n",
       " 1974-01-01   China  1.240000e+12\n",
       " 1975-01-01   China  1.310000e+12\n",
       " 1976-01-01   China  1.290000e+12\n",
       " 1977-01-01   China  1.330000e+12\n",
       " 1978-01-01   China  1.510000e+12\n",
       " 1979-01-01   China  1.600000e+12\n",
       " 1980-01-01   China  1.660000e+12\n",
       " 1981-01-01   China  1.660000e+12\n",
       " 1982-01-01   China  1.830000e+12\n",
       " 1983-01-01   China  1.950000e+12\n",
       " 1984-01-01   China  2.200000e+12\n",
       " 1985-01-01   China  2.430000e+12\n",
       " 1986-01-01   China  2.570000e+12\n",
       " 1987-01-01   China  2.720000e+12\n",
       " 1988-01-01   China  2.830000e+12\n",
       " 1989-01-01   China  2.810000e+12\n",
       " 1990-01-01   China  2.790000e+12\n",
       " 1991-01-01   China  2.930000e+12\n",
       " 1992-01-01   China  3.180000e+12\n",
       " 1993-01-01   China  3.530000e+12\n",
       " 1994-01-01   China  3.730000e+12\n",
       " 1995-01-01   China  3.970000e+12\n",
       " 1996-01-01   China  4.250000e+12\n",
       " 1997-01-01   China  4.350000e+12\n",
       " 1998-01-01   China  4.400000e+12\n",
       " 1999-01-01   China  4.700000e+12\n",
       " 2000-01-01   China  5.120000e+12\n",
       " 2001-01-01   China  5.580000e+12\n",
       " 2002-01-01   China  6.110000e+12\n",
       " 2003-01-01   China  6.570000e+12\n",
       " 2004-01-01   China  7.220000e+12\n",
       " 2005-01-01   China  8.230000e+12\n",
       " 2006-01-01   China  9.050000e+12\n",
       " 2007-01-01   China  9.820000e+12\n",
       " 2008-01-01   China  1.020000e+13\n",
       " 2009-01-01   China  1.110000e+13\n",
       " 2010-01-01   China  1.260000e+13\n",
       " 2011-01-01   China  1.370000e+13\n",
       " 2012-01-01   China  1.430000e+13\n",
       " 2013-01-01   China  1.500000e+13\n",
       " 2014-01-01   China  1.590000e+13\n",
       " 2015-01-01   China  1.640000e+13\n",
       " 2016-01-01   China  1.690000e+13\n",
       " 2017-01-01   China           NaN\n",
       " 2018-01-01   China           NaN\n",
       " 2019-01-01   China           NaN\n",
       " 2020-01-01   China           NaN]"
      ]
     },
     "execution_count": 15,
     "metadata": {},
     "output_type": "execute_result"
    }
   ],
   "source": [
    "temp"
   ]
  },
  {
   "cell_type": "code",
   "execution_count": null,
   "id": "cc9571e8",
   "metadata": {},
   "outputs": [],
   "source": []
  }
 ],
 "metadata": {
  "kernelspec": {
   "display_name": "Python 3 (ipykernel)",
   "language": "python",
   "name": "python3"
  },
  "language_info": {
   "codemirror_mode": {
    "name": "ipython",
    "version": 3
   },
   "file_extension": ".py",
   "mimetype": "text/x-python",
   "name": "python",
   "nbconvert_exporter": "python",
   "pygments_lexer": "ipython3",
   "version": "3.9.7"
  }
 },
 "nbformat": 4,
 "nbformat_minor": 5
}
