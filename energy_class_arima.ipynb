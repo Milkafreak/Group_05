{
 "cells": [
  {
   "cell_type": "code",
   "execution_count": 2,
   "id": "16b61fd3-44d8-4a1f-8b32-6fe8dc58f9c8",
   "metadata": {},
   "outputs": [],
   "source": [
    "#pylint: disable=wrong-import-position\n",
    "# pylint: disable=no-member\n",
    "from datetime import datetime\n",
    "import sys\n",
    "import matplotlib.pyplot as plt # type: ignore\n",
    "import pandas as pd # type: ignore\n",
    "sys.path.append(\"./Methods\")\n",
    "plt.style.use('seaborn')\n",
    "#pylint: disable=wrong-import-position\n",
    "from download import download_file #pylint: disable=wrong-import-position\n",
    "from emission import add_emission #pylint: disable=wrong-import-position\n",
    "from statsmodels.tsa.arima_model import ARIMA\n",
    "import statsmodels.api as sm\n",
    "import numpy as np\n",
    "import itertools\n",
    "from sklearn.metrics import mean_squared_error\n",
    "import warnings\n",
    "\n",
    "#testcomments\n",
    "class EnergyClass:\n",
    "    '''\n",
    "    class that contain different methods that works\n",
    "    with data related to energy consumption worldwide\n",
    "    Parameters\n",
    "    depend on the method called\n",
    "    ------------\n",
    "    Returns\n",
    "    depend on the method called\n",
    "    ---------\n",
    "    '''\n",
    "    def __init__ (self):\n",
    "        '''\n",
    "        Init method of the class EnergyClass\n",
    "        Parameters\n",
    "        nothing\n",
    "        ------------\n",
    "        Returns\n",
    "        nothing\n",
    "        ---------\n",
    "        '''\n",
    "        self.data = \"\"\n",
    "        self.file = False\n",
    "        download_file()\n",
    "    def download(self):\n",
    "        '''\n",
    "        Download Energy.csv file and assign it to variable named data as pandas dataframe\n",
    "        Parameters\n",
    "        ------------\n",
    "        Returns\n",
    "        ---------\n",
    "        '''\n",
    "        self.data = pd.read_csv(\"./Download/Energy.csv\")\n",
    "        self.data = self.data[self.data[\"year\"]>= 1970]\n",
    "        self.data[\"year\"] = pd.to_datetime(self.data[\"year\"],format = \"%Y\")\n",
    "        self.data = self.data.set_index(\"year\")\n",
    "        self.data = self.data.drop(columns = [\"renewables_consumption\"])\n",
    "        add_emission(self.data)\n",
    "        self.file = True\n",
    "    def country_list(self):\n",
    "        '''\n",
    "        Lists all unique countries that are in the given Energy.csv File in the \"country\" column\n",
    "        Parameters\n",
    "        ------------\n",
    "        Returns\n",
    "        ---------\n",
    "        List of countries in country column.\n",
    "        Example\n",
    "        ---------\n",
    "        x.country_list()\n",
    "        with x being an Energy class object.\n",
    "        '''\n",
    "        if self.file is False:\n",
    "            self.download()\n",
    "        return self.data[\"country\"].unique()\n",
    "    def plot_consumption(self,country: str,normalize: bool = \"False\"):\n",
    "        '''\n",
    "        Plot the consumption of the desired country in terms of different energy sources\n",
    "        Parameters\n",
    "        ------------\n",
    "        country: str\n",
    "        Returns\n",
    "        ---------\n",
    "        Area plot\n",
    "        Example\n",
    "        ---------\n",
    "        x.plot_consumptiont(\"Portugal\",normalize =True)\n",
    "        with x being an EnergyClass object.\n",
    "        '''\n",
    "        if self.file is False:\n",
    "            self.download()\n",
    "        if country not in self.data[\"country\"].unique():\n",
    "            raise ValueError(\"Variable is not part of the countries in the dataframe.\")\n",
    "        if normalize is False:\n",
    "            df2 = self.data[ self.data[\"country\"] == country]\\\n",
    "            [self.data.columns[self.data.columns.str.contains( \"_consumption|country|year\" )]]\n",
    "            df2 = df2.drop([\"fossil_fuel_consumption\",\"low_carbon_consumption\",\\\n",
    "                            \"primary_energy_consumption\"],axis=1)\n",
    "        else: #Normalize Data\n",
    "            values = self.data[self.data[\"country\"] == country]\\\n",
    "            [self.data.columns[self.data.columns.str.contains(\"_consumption\")]]\n",
    "            values = values.drop([\"fossil_fuel_consumption\",\"low_carbon_consumption\",\\\n",
    "                                  \"primary_energy_consumption\"],axis=1)\n",
    "            values = values.fillna(0)\n",
    "            x_scaled = values.div(values.sum(axis=1), axis=0).reset_index(drop=True)\n",
    "            x_scaled.index = self.data[self.data[\"country\"] == country]\\\n",
    "            [self.data.columns[self.data.columns.str.contains(\"_consumption|country\")]].index\n",
    "            df2 = x_scaled\n",
    "        #Plot all consumption\n",
    "        df2.plot.area()\n",
    "    def energy_compare(self, countries: list):\n",
    "        '''\n",
    "        Takes a list of countries and iterates over it to find the\\\n",
    "        respective value in the dataset for the total energy consumed\\\n",
    "        and level of CO2 emit\n",
    "        Appends each country element to loca : list\n",
    "        Appends each value of that country's consumption to val : list\n",
    "        Plot a barchart of each country in the list and their\\\n",
    "        energy consumption for the sake of comparison\n",
    "        Parameters\n",
    "        ---------------\n",
    "        countries: list\n",
    "            list of country strings\n",
    "        Output\n",
    "        ---------------\n",
    "        figure: BarContainer\n",
    "            compare the total consumption of each country\n",
    "                Dashed line\n",
    "            compare the total CO2 emit\n",
    "        '''\n",
    "        if self.file is False:\n",
    "            self.download()\n",
    "        #get the df of the consumption columns\n",
    "        df_consumption = self.data.filter(like = \"_consumption\")\n",
    "        df_country = self.data[[\"country\",\"emissions\"]]#get the df of the country column\n",
    "        #merge the two dfs into 'df' having the columns of country and all the consumptions\n",
    "        df_countries = pd.concat([df_country, df_consumption], axis=1)\n",
    "        #group by countries and compute the averge of each consumption over the years\n",
    "        #'new_df' having index label as country and counsumptions columns\n",
    "        new_df = df_countries.groupby(\"country\").mean()\n",
    "        #compute the sum of all consumptions into TOTAL\n",
    "        new_df[\"TOTAL_energy_consumption\"] = new_df.iloc[:,1:].sum(axis = 1)\n",
    "        final_df = new_df[[\"TOTAL_energy_consumption\", \"emissions\"]]\n",
    "        f_df = final_df.reset_index()\n",
    "        loca = []\n",
    "        val = []\n",
    "        emis = []\n",
    "        for country in countries:\n",
    "            if country not in f_df[\"country\"].tolist():\n",
    "                raise ValueError(f\"Country {country} not on the list of countries\")\n",
    "            value = f_df[f_df[\"country\"] == country][\"TOTAL_energy_consumption\"].values[0]\n",
    "            value_emis = f_df[f_df[\"country\"] == country][\"emissions\"].values[0]\n",
    "            loca.append(country)\n",
    "            val.append(value)\n",
    "            emis.append(value_emis)\n",
    "        df_plot = pd.DataFrame({'Energy': val, 'Emission': emis, \"Country\": loca},\\\n",
    "        columns=['Energy','Emission','Country'])\n",
    "        fig, ax1 = plt.subplots()\n",
    "        ax1.set_xlabel(\"Countries\")\n",
    "        ax1.bar(df_plot[\"Country\"], df_plot[\"Energy\"], color=\"blue\")\n",
    "        ax1.tick_params(axis='y', labelcolor=\"blue\")\n",
    "        ax2 = ax1.twinx()\n",
    "        ax2.plot(df_plot[\"Country\"], df_plot[\"Emission\"], color=\"red\", linestyle='dashed')\n",
    "        ax2.tick_params(axis='y', labelcolor=\"red\")\n",
    "        plt.grid(False)\n",
    "        plt.show()\n",
    "        #METHOD 5\n",
    "    def gdp_compare(self, countries: list):\n",
    "        '''\n",
    "        Takes a list of countries and iterates over it to create a\\\n",
    "        dataframe temp : DataFrame for each country and plots\\\n",
    "        the column \"gdp\" of that country over the years\n",
    "        Parameters\n",
    "        ---------------\n",
    "        countries: list\n",
    "            list of country strings\n",
    "        Output\n",
    "        ---------------\n",
    "        figure: AxesSubplot\n",
    "            compare the GDP of each country over the years\n",
    "        '''\n",
    "        if self.file is False:\n",
    "            self.download()\n",
    "        #create new dataframe made of three columns: \"country\", and \"gdp\"\n",
    "        gdp_df = self.data[[\"country\", \"gdp\"]]\n",
    "        for country in countries:\n",
    "            if country not in gdp_df[\"country\"].tolist():\n",
    "                raise ValueError(f\"Country {country} not on the list of countries\")\n",
    "            element = gdp_df[gdp_df[\"country\"] == country]\n",
    "            plt.plot(element.index.year,element[\"gdp\"], label = country)\n",
    "        plt.title(\"GDP over the years\")\n",
    "        plt.legend()\n",
    "    #METHOD 6\n",
    "    def gapminder(self, year: int):\n",
    "        '''\n",
    "        Takes an argument representing the year\\\n",
    "        if the argument is not an int, raises TypeError, else\\\n",
    "        plots scatter plot for the given year with the x-axis\\\n",
    "        the GDP and y-axis the total consumption.\n",
    "        the size of the scatters is proportional to the population\n",
    "        Parameters\n",
    "        ---------------\n",
    "        year: int\n",
    "            Year where the energy consumptions are summed and plotted\n",
    "        Output\n",
    "        ---------------\n",
    "        figure: ScatterPlot\n",
    "            In reference to the gapminder tool\n",
    "        '''\n",
    "        if self.file is False:\n",
    "            self.download()\n",
    "        #'tempdf1' having one column representing the sum of \\\n",
    "        #all consumptions per country per year with redudant columns removed\n",
    "        if type(year) not in [int]:\n",
    "            raise TypeError(\"variable 'Year' is not an int\")\n",
    "        tempdf1 = self.data[self.data.index.year == year].filter( like= \"_consumption\" ).sum(axis=1).to_frame()\n",
    "        #.drop([ \"fossil_fuel_consumption\",\"low_carbon_consumption\" , \\\n",
    "         #      \"primary_energy_consumption\" ],axis=1)\\\n",
    "        \n",
    "        tempdf2 = self.data[self.data.index.year == year][[\"country\", \"gdp\", \"population\"]]\n",
    "        tempdf3= pd.concat([tempdf1, tempdf2], axis=1)\n",
    "        tempdf3 = tempdf3.dropna()\n",
    "        tempdf3 = tempdf3[tempdf3[\"country\"] != \"World\"]\n",
    "        gap = tempdf3.set_axis([\"energy\",\"country\", \"gdp\", \"population\"], axis = 1)\n",
    "        #print(gap)\n",
    "        gap[\"population\"] = (gap[\"population\"]/1000000).round(2)\n",
    "        plt.scatter(gap[\"gdp\"],gap[\"energy\"], s=gap[\"population\"], alpha = 0.8)\n",
    "        plt.xlabel(\"GDP of countries\")\n",
    "        plt.ylabel(\"Energy consumption\")\n",
    "        plt.title(f\"Gapminder scatter of Energy consumed per GDP of countries in {year}\")\n",
    "        plt.xscale(\"log\")\n",
    "        plt.yscale(\"log\")\n",
    "        plt.show()\n",
    "    #Method 7\n",
    "    def emissions_consumption(self, year1: int = 2000, year2: int = 2018 ):\n",
    "        '''\n",
    "        Takes two years as an interval of data related to energy consumption and emession \\\n",
    "        and output a scatter plot between emessions and total energy consumption \\\n",
    "        with size of the dots and colors reflecting countries´s populations.\n",
    "        Parameters\n",
    "        ---------------\n",
    "        year1: str\n",
    "               Begining year\n",
    "        year2: str\n",
    "               Ending year\n",
    "        Output\n",
    "        ---------------\n",
    "        figure: Scatter plot\n",
    "            of emissions and total energy consumption\\\n",
    "            size and color of dots reflect countries´s average\\\n",
    "            population during the chosen period.\n",
    "        '''\n",
    "        data = self.data\n",
    "        data.reset_index(inplace=True)\n",
    "        data = data.rename(columns = {'index':'year'})\n",
    "        if str(year1) not in data['year'].dt.strftime('%Y').tolist():\n",
    "            raise ValueError(f\"year {year1} not on the list of years\")\n",
    "        if str(year2) not in data['year'].dt.strftime('%Y').tolist():\n",
    "            raise ValueError(f\"year {year2} not on the list of years\")\n",
    "        if year1 >= year2:\n",
    "            raise ValueError(f\" first year: {year1} \\\n",
    "            should be stricly less than second year: {year2}\")\n",
    "        data = data[(data[\"year\"].dt.strftime('%Y').astype(int) >= year1) \\\n",
    "                    & (data[\"year\"].dt.strftime('%Y').astype(int)<= year2)]\n",
    "        df_consumption = data.filter(like = \"_consumption\")\n",
    "        df_country = data[[\"country\",\"emissions\"]]#get the df of the country column\n",
    "        df_countries = pd.merge(df_country, df_consumption, left_index = True, right_index = True)\n",
    "        new_df = df_countries.groupby(\"country\").mean()\n",
    "        #compute the sum of all consumptions into TOTAL\n",
    "        new_df[\"TOTAL_energy_consumption\"] = new_df.iloc[:,1:].sum(axis = 1)\n",
    "        final_df = new_df[[\"TOTAL_energy_consumption\", \"emissions\"]]\n",
    "        f_df = final_df.reset_index()\n",
    "        df_population = data[[\"country\",\"population\"]]#get the df of the country column\n",
    "        df_population = df_population.groupby(\"country\").mean()\n",
    "        df_population = df_population.reset_index()\n",
    "        df_scatter = pd.merge(df_population, f_df, left_index = True, right_index = True)\n",
    "        df_scatter.drop( df_scatter[ df_scatter['country_x'] == \"World\" ].index , inplace=True)\n",
    "        fig = plt.figure(figsize=(18, 10))\n",
    "        #plt_1 = plt.figure(figsize=(18, 10))\n",
    "        ax = plt.gca()\n",
    "        cm = plt.cm.get_cmap('RdYlBu')\n",
    "        scatter = ax.scatter(df_scatter[\"emissions\"], df_scatter[\"TOTAL_energy_consumption\"] \\\n",
    "                             , s= df_scatter[\"population\"]/1000000 \\\n",
    "                             ,c=df_scatter[\"population\"]/1000000 ,vmin=0 \\\n",
    "                             , vmax=200, alpha=0.5 , cmap=cm)\n",
    "        plt.colorbar(scatter)\n",
    "        ax.set_yscale('log')\n",
    "        ax.set_xscale('log')\n",
    "        plt.title(f\"Emissions and consumption for all countries between {year1} and {year2}\" \\\n",
    "                  , fontdict=None, loc='center')\n",
    "        plt.xlabel(\"Emissions of gC02eq/kWh\")\n",
    "        plt.ylabel(\"Total energy consumption\")\n",
    "        handles, labels = scatter.legend_elements(prop=\"sizes\", alpha=0.4)\n",
    "        legend2 = ax.legend(handles, labels, loc=\"lower right\", title=\"Sizes\")\n",
    "        \n",
    "    def arima_prediction(self, country: str, n_periods: int):\n",
    "        '''\n",
    "        Takes a country identifier and a number of periods for future predictions. \n",
    "        Uses the ARIMA algorithm for prediction. The hyperparameters are chosen based on iteration of\\\n",
    "        all the combinations within their given range and finding the tuple that yields the smallest rmse.\n",
    "        Fits the data and predicts the outcome of both emissions and consumptions for the given country over\\\n",
    "        the given number of periods.\n",
    "        plots the two graphs of ARIMA prediction for emission and consumption stacked horizentally together.\n",
    "        Parameters\n",
    "        ---------------\n",
    "        country: string\n",
    "                name of the country to do the ARIMA prediction on\n",
    "        \n",
    "        n_periods: integer\n",
    "                number of periods to predict\n",
    "        \n",
    "        ---------------\n",
    "        Figure: subplots one for the emission prediction and th eother for consumption prediction\n",
    "        '''\n",
    "        if self.file is False:\n",
    "            self.download()\n",
    "        if (type(n_periods) not in [int]) or (n_periods < 1):\n",
    "            raise Exception(\"Sorry, prediction periods must be an integer and bigger or equal to 1\")\n",
    "        warnings.filterwarnings(\"ignore\")\n",
    "        df_em = self.data[self.data[\"country\"] == country]\n",
    "        df_cons = self.data[self.data[\"country\"] == country].filter(like = \"_consumption\").dropna()\\\n",
    "        .sum(axis = 1).to_frame().set_axis([\"all_consumptions\"], axis = 1)\n",
    "        if (df_em[\"emissions\"].isna().sum()>35):\n",
    "            raise Exception(f\"Sorry, {country} does not have enough emission data to perform ARIMA\")\n",
    "            return\n",
    "        df_em = df_em.filter(like = \"em\").dropna()\n",
    "        train = df_em[\"emissions\"][:int(len(df_em[\"emissions\"])*0.8)]\n",
    "        test = df_em[\"emissions\"][int(len(df_em[\"emissions\"])*0.8):]\n",
    "        p, d, q = range(0,7), range(0,2), range(0,7)\n",
    "        pdq_comb = list(itertools.product(p, d, q))\n",
    "        rmse = []\n",
    "        order = []\n",
    "        for pdq in pdq_comb:\n",
    "            try:\n",
    "                model = sm.tsa.arima.ARIMA(train, order = pdq).fit()\n",
    "                pred = model.predict(start = int(len(df_em[\"emissions\"])*0.8),end = (len(df_em[\"emissions\"])-1))\n",
    "                error = np.sqrt(mean_squared_error(test, pred))\n",
    "                order.append(pdq)\n",
    "                rmse.append(error)\n",
    "            except:\n",
    "                continue \n",
    "        results = pd.DataFrame(index = order, data=rmse, columns = [\"RMSE\"])\n",
    "        hyperparameters = results.nsmallest(1, \"RMSE\").index[0]\n",
    "        final_model = sm.tsa.arima.ARIMA(df_em[\"emissions\"], order = hyperparameters).fit()\n",
    "        prediction = final_model.predict(len(df_em), len(df_em)+n_periods)    \n",
    "        final_model2 = sm.tsa.arima.ARIMA(df_cons[\"all_consumptions\"], order = hyperparameters).fit()\n",
    "        prediction2 = final_model2.predict(len(df_cons), len(df_cons)+n_periods)\n",
    "        f, (ax1, ax2) = plt.subplots(1, 2)  \n",
    "        ax1.plot(df_em, color = \"cornflowerblue\")\n",
    "        ax1.plot(prediction, label=\"predictions\", color = \"yellowgreen\")\n",
    "        ax1.set_title(\"ARIMA Emissions Prediction\")\n",
    "        ax2.plot(df_cons, color = \"cornflowerblue\")\n",
    "        ax2.plot(prediction2, label=\"predictions\", color = \"red\")\n",
    "        ax2.set_title(\"ARIMA Consumptions Prediction\")\n",
    "        plt.tight_layout(4)"
   ]
  },
  {
   "cell_type": "code",
   "execution_count": 3,
   "id": "9acad904-e0e4-4dfd-8e7c-7346a3c6df17",
   "metadata": {},
   "outputs": [
    {
     "name": "stdout",
     "output_type": "stream",
     "text": [
      "File already exists !\n"
     ]
    }
   ],
   "source": [
    "x = EnergyClass()"
   ]
  },
  {
   "cell_type": "code",
   "execution_count": 4,
   "id": "04dd74d0-77df-4781-b70b-60ea075df7a0",
   "metadata": {},
   "outputs": [
    {
     "data": {
      "image/png": "[encoded data removed]",
      "text/plain": [
       "<Figure size 576x396 with 2 Axes>"
      ]
     },
     "metadata": {},
     "output_type": "display_data"
    }
   ],
   "source": [
    "x.energy_compare([\"France\", \"Spain\", \"Japan\"])"
   ]
  },
  {
   "cell_type": "code",
   "execution_count": 5,
   "id": "5f395a0e-67cc-4eed-a1ae-f893cd2fba86",
   "metadata": {},
   "outputs": [
    {
     "data": {
      "image/png": "[encoded data removed]",
      "text/plain": [
       "<Figure size 576x396 with 1 Axes>"
      ]
     },
     "metadata": {},
     "output_type": "display_data"
    }
   ],
   "source": [
    "x.gapminder(2007)"
   ]
  },
  {
   "cell_type": "code",
   "execution_count": 8,
   "id": "7fa5eb64-fbe4-4650-a5c2-27aa0d91f5ba",
   "metadata": {},
   "outputs": [
    {
     "data": {
      "image/png": "[encoded data removed]",
      "text/plain": [
       "<Figure size 576x396 with 2 Axes>"
      ]
     },
     "metadata": {},
     "output_type": "display_data"
    }
   ],
   "source": [
    "x.arima_prediction(\"China\", 10)"
   ]
  },
  {
   "cell_type": "code",
   "execution_count": null,
   "id": "c61cb602-cd0e-4966-8320-b055e4e7911a",
   "metadata": {},
   "outputs": [],
   "source": [
    "from statsmodels.tsa.stattools import adfuller\n",
    "from statsmodels.tsa.seasonal import seasonal_decompose\n",
    "from statsmodels.tsa.arima_model import ARIMA\n",
    "from statsmodels.graphics.tsaplots import plot_acf\n",
    "from pandas.plotting import register_matplotlib_converters\n",
    "register_matplotlib_converters()"
   ]
  },
  {
   "cell_type": "code",
   "execution_count": null,
   "id": "7f7e3fe6-cc33-4e6c-a6f8-e74fef47362c",
   "metadata": {},
   "outputs": [],
   "source": [
    "df = x.download()"
   ]
  },
  {
   "cell_type": "code",
   "execution_count": null,
   "id": "4183053d-c0ea-4fa2-8d3d-98ccd9d8e131",
   "metadata": {},
   "outputs": [],
   "source": [
    "df"
   ]
  },
  {
   "cell_type": "code",
   "execution_count": null,
   "id": "65d627c2-77ab-449e-b819-37e0c9e010b4",
   "metadata": {},
   "outputs": [],
   "source": [
    "df[df[\"country\"] == \"Tunisia\"][[\"emissions\"]]"
   ]
  },
  {
   "cell_type": "code",
   "execution_count": null,
   "id": "710d42a4-7576-4356-a5f1-370ffebf3949",
   "metadata": {},
   "outputs": [],
   "source": [
    "df[\"sum\"] = df[\"solar_consumption\"] + df[\"wind_consumption\"] \n",
    "df[\"sub\"] = df[\"renewables_consumption\"] - df[\"sum\"]\n",
    "df[[\"sub\"]].sum()"
   ]
  },
  {
   "cell_type": "code",
   "execution_count": null,
   "id": "0e538bd9-7fbf-431f-90f8-7e13fd7dc673",
   "metadata": {},
   "outputs": [],
   "source": [
    "df[[\"other_renewable_consumption\", \"hydro_consumption\", \"biofuel_consumption\"]].sum()"
   ]
  },
  {
   "cell_type": "code",
   "execution_count": null,
   "id": "bfeaa00f-48fe-43e6-a122-c1d8b58a4e0f",
   "metadata": {},
   "outputs": [],
   "source": [
    "69729.5 + 803761.772 + 32805.332"
   ]
  },
  {
   "cell_type": "code",
   "execution_count": null,
   "id": "33358dee-ef5f-45e1-9666-80593ac39d26",
   "metadata": {},
   "outputs": [],
   "source": [
    "df_em = df.filter(like = \"em\")[df[\"country\"] == \"China\"].dropna()\n",
    "#"
   ]
  },
  {
   "cell_type": "code",
   "execution_count": null,
   "id": "aef483ed-7cb9-4ff0-a1b0-2848cad6bfa6",
   "metadata": {},
   "outputs": [],
   "source": [
    "test_result = adfuller(df_em[\"emissions\"])"
   ]
  },
  {
   "cell_type": "code",
   "execution_count": null,
   "id": "728c51b2-fb3d-467f-9881-10f44df81671",
   "metadata": {},
   "outputs": [],
   "source": [
    "#H0: not stationary\n",
    "#H1: stationary\n",
    "\n",
    "def adfuller_test(emissions):\n",
    "    result = adfuller(emissions)\n",
    "    labels = [\"ADF Test Statistic\", \"p-value\", \"#Lags Used\", \"Number of Observations Used\"]\n",
    "    for value, label in zip(result, labels):\n",
    "        print(label+ \": \"+ str(value))\n",
    "    if result[1] <= 0.05:\n",
    "        print(\"Strong evidence against the null hypothesis, reject H0, Data is likely stationary\")\n",
    "    else:\n",
    "        print(\"Weak evidence against null hypothesis, Data is likely non stationary\")\n",
    "    \n",
    "    \n"
   ]
  },
  {
   "cell_type": "code",
   "execution_count": null,
   "id": "4a1920df-e99c-48f5-83c0-2e335d10a326",
   "metadata": {},
   "outputs": [],
   "source": [
    "adfuller_test(df_em[\"emissions\"])"
   ]
  },
  {
   "cell_type": "code",
   "execution_count": null,
   "id": "32fd25af-77a8-4c61-b1b6-5001f9cb2081",
   "metadata": {},
   "outputs": [],
   "source": [
    "df_em_diff = df_em.diff(periods = 2).dropna()"
   ]
  },
  {
   "cell_type": "code",
   "execution_count": null,
   "id": "d643a2e0-9ed8-4dab-80de-e3fde13bf3cf",
   "metadata": {},
   "outputs": [],
   "source": [
    "adfuller_test(df_em_diff[\"emissions\"])"
   ]
  },
  {
   "cell_type": "code",
   "execution_count": null,
   "id": "1f8f9807-d3d7-4013-9b69-433d9b3cb50e",
   "metadata": {},
   "outputs": [],
   "source": [
    "plt.xlabel('Date')\n",
    "plt.ylabel('Emissions')\n",
    "plt.plot(df_em_diff)"
   ]
  },
  {
   "cell_type": "code",
   "execution_count": null,
   "id": "92df0ceb-163d-4618-9851-9f3e2e1c9b01",
   "metadata": {},
   "outputs": [],
   "source": [
    "\"\"\"def ad_test(dataset):\n",
    "    dftest = adfuller(dataset, autolag = \"AIC\")\n",
    "    print(\"1. ADF :\", dftest[0])\n",
    "    print(\"2. P_Value :\", dftest[1])\n",
    "    print(\"3. Num of Lags :\", dftest[2])\n",
    "    print(\"4. Num of Observations Used For ADF Regression and Critical Values Calculation :\", dftest[3])\n",
    "    print(\"5. Critical Values: \")\n",
    "    for key, val in dftest[4].items():\n",
    "        print(\"\\t\", key, \": \", val)\"\"\""
   ]
  },
  {
   "cell_type": "code",
   "execution_count": null,
   "id": "60d419ad-829b-4190-b453-4e5e19128247",
   "metadata": {},
   "outputs": [],
   "source": [
    "#ad_test(df_em[\"emissions\"])"
   ]
  },
  {
   "cell_type": "code",
   "execution_count": null,
   "id": "3084b4ec-ff09-49b3-87fb-8a68cfe39eb2",
   "metadata": {},
   "outputs": [],
   "source": [
    "\"\"\"rolling_mean = df_em.rolling(window = 2).mean()\n",
    "rolling_std = df_em.rolling(window = 2).std()\n",
    "plt.plot(df_em, color = 'blue', label = 'Original')\n",
    "plt.plot(rolling_mean, color = 'red', label = 'Rolling Mean')\n",
    "plt.plot(rolling_std, color = 'black', label = 'Rolling Std')\n",
    "plt.legend(loc = 'best')\n",
    "plt.title('Rolling Mean & Rolling Standard Deviation')\n",
    "plt.show()\"\"\""
   ]
  },
  {
   "cell_type": "code",
   "execution_count": null,
   "id": "de0b9137-1c5c-457b-809c-73cf2d1faaee",
   "metadata": {},
   "outputs": [],
   "source": [
    "\"\"\"result = adfuller(df['emissions'].dropna())\n",
    "print('ADF Statistic: {}'.format(result[0]))\n",
    "print('p-value: {}'.format(result[1]))\n",
    "print('Critical Values:')\n",
    "for key, value in result[4].items():\n",
    "    print('\\t{}: {}'.format(key, value))\"\"\""
   ]
  },
  {
   "cell_type": "code",
   "execution_count": null,
   "id": "c07d8273-590d-434e-a544-921d3eb46c93",
   "metadata": {},
   "outputs": [],
   "source": [
    "#plot_acf(df_em)"
   ]
  },
  {
   "cell_type": "code",
   "execution_count": null,
   "id": "234efd7d-beec-4810-8fc1-0453b2d5f000",
   "metadata": {},
   "outputs": [],
   "source": [
    "#df_em_diff = df_em.diff(periods = 1)\n",
    "#df_em_diff"
   ]
  },
  {
   "cell_type": "code",
   "execution_count": null,
   "id": "ece9a528-2f49-42c0-88fb-242311d050ad",
   "metadata": {},
   "outputs": [],
   "source": [
    "#plot_acf(df_em_diff)"
   ]
  },
  {
   "cell_type": "code",
   "execution_count": null,
   "id": "2b701278-dad8-4d8d-9ddb-2f458bf3db41",
   "metadata": {},
   "outputs": [],
   "source": [
    "df_em['emissions First Difference'] = df_em['emissions'] - df_em['emissions'].shift(1)\n",
    "#df_em['Seasonal First Difference']=df_em['emissions']-df_em['emissions'].shift(1)\n",
    "df_em.head()"
   ]
  },
  {
   "cell_type": "code",
   "execution_count": null,
   "id": "c6a76a66-a8b6-4354-b705-fdb5529e5675",
   "metadata": {},
   "outputs": [],
   "source": []
  },
  {
   "cell_type": "code",
   "execution_count": null,
   "id": "50f823e4-e61a-4686-9de6-caf98f12bf34",
   "metadata": {},
   "outputs": [],
   "source": [
    "df_em_diff.plot()"
   ]
  },
  {
   "cell_type": "code",
   "execution_count": null,
   "id": "2af5d6e5-fc32-4803-866a-bd72ebb412b1",
   "metadata": {},
   "outputs": [],
   "source": [
    "from pandas.plotting import autocorrelation_plot\n",
    "autocorrelation_plot(df_em_diff['emissions'])\n",
    "plt.show()"
   ]
  },
  {
   "cell_type": "code",
   "execution_count": null,
   "id": "3dc47eed-10a6-4669-9919-10776c9c8315",
   "metadata": {},
   "outputs": [],
   "source": [
    "from statsmodels.graphics.tsaplots import plot_acf,plot_pacf\n",
    "import statsmodels.api as sm\n",
    "fig = plt.figure(figsize=(12,8))\n",
    "ax1 = fig.add_subplot(211)\n",
    "fig = sm.graphics.tsa.plot_acf(df_em_diff['emissions'].dropna(),lags=40,ax=ax1)\n",
    "ax2 = fig.add_subplot(212)\n",
    "fig = sm.graphics.tsa.plot_pacf(df_em_diff['emissions'].dropna(),lags=23,ax=ax2)"
   ]
  },
  {
   "cell_type": "code",
   "execution_count": null,
   "id": "a9c1e8d8-13bd-411d-aab0-a5e2456c9c19",
   "metadata": {},
   "outputs": [],
   "source": [
    "import warnings\n",
    "\n",
    "warnings.filterwarnings(\"ignore\")"
   ]
  },
  {
   "cell_type": "code",
   "execution_count": null,
   "id": "022a4d7e-44ac-4cd6-ac3b-a50383579a65",
   "metadata": {},
   "outputs": [],
   "source": [
    "from statsmodels.tsa.arima_model import ARIMA\n",
    "import statsmodels.api as sm\n",
    "import numpy as np\n",
    "model=sm.tsa.arima.ARIMA(df_em_diff['emissions'],order=(1,1,0))\n",
    "model_fit=model.fit()\n",
    "model_fit.summary()"
   ]
  },
  {
   "cell_type": "code",
   "execution_count": null,
   "id": "15b336eb-b3ba-442d-8417-0f0e122ff691",
   "metadata": {},
   "outputs": [],
   "source": [
    "#model_fit.plot()"
   ]
  },
  {
   "cell_type": "code",
   "execution_count": null,
   "id": "d5300a48-2d89-4412-aeb4-e1a804e11c10",
   "metadata": {},
   "outputs": [],
   "source": [
    "df_em_diff['forecast']=model_fit.predict(start=0,end=70,dynamic=True)\n",
    "df_em_diff[['emissions','forecast']].plot(figsize=(12,8))"
   ]
  },
  {
   "cell_type": "code",
   "execution_count": null,
   "id": "c027b56a-edac-4652-bab9-eff048c37c52",
   "metadata": {},
   "outputs": [],
   "source": [
    "df_em_diff(forecast(auto.arima(ts(temps,frequency=365),D=1),h=365))"
   ]
  },
  {
   "cell_type": "code",
   "execution_count": null,
   "id": "a5639c10-8cd3-4a20-bf77-ed08eb512df4",
   "metadata": {},
   "outputs": [],
   "source": [
    "import statsmodels.api as sm\n",
    "\n",
    "decomposition = sm.tsa.seasonal_decompose(df_em['emissions'], model='additive', \n",
    "                            extrapolate_trend='freq') #additive or multiplicative is data specific\n",
    "fig = decomposition.plot()\n",
    "plt.show()"
   ]
  },
  {
   "cell_type": "code",
   "execution_count": null,
   "id": "5fee0f26-ddd9-439f-988b-081df8746956",
   "metadata": {},
   "outputs": [],
   "source": [
    "import statsmodels.api as sm"
   ]
  },
  {
   "cell_type": "code",
   "execution_count": null,
   "id": "2d9eb836-8519-49ad-bd2b-37daa0274787",
   "metadata": {},
   "outputs": [],
   "source": [
    "df_em[\"emissions\"].head()"
   ]
  },
  {
   "cell_type": "code",
   "execution_count": null,
   "id": "292cd8d0-57b9-4a30-81de-dbb3e4154512",
   "metadata": {},
   "outputs": [],
   "source": [
    "#df_em[\"emissions\"].plot()\n",
    "\n",
    "import pmdarima\n",
    "from pmdarima import auto_arima\n",
    "\n",
    "auto_arima(df_em[\"emissions\"], m=12, d=1, start_P = 0, seasonal = False, trace = False, error_action=\"ignore\", suppress_warnings=True,stepwise=False)"
   ]
  },
  {
   "cell_type": "code",
   "execution_count": null,
   "id": "f9404670-0d98-452b-916d-aa67ea0f23ad",
   "metadata": {},
   "outputs": [],
   "source": [
    "final_model = sm.tsa.arima.ARIMA(df_em[\"emissions\"], order = (2,1,1)).fit()\n",
    "final_model\n",
    "#df_em[\"emissions\"]"
   ]
  },
  {
   "cell_type": "code",
   "execution_count": null,
   "id": "2436cfd1-c980-45cb-a193-7e5a1165f9a0",
   "metadata": {},
   "outputs": [],
   "source": [
    "#df_em_diff.plot()"
   ]
  },
  {
   "cell_type": "code",
   "execution_count": null,
   "id": "ba345d84-628b-4af0-949c-835c1f91ccb5",
   "metadata": {},
   "outputs": [],
   "source": [
    "#df_em[\"emissions\"].plot()\n",
    "\n",
    "import pmdarima\n",
    "from pmdarima import auto_arima\n",
    "\n",
    "auto_arima(df_em[\"emissions\"], m=12, d=1, start_P = 0, seasonal = False, trace = False, error_action=\"ignore\", suppress_warnings=True,stepwise=False)"
   ]
  },
  {
   "cell_type": "code",
   "execution_count": null,
   "id": "d30408cd-c2df-4e3d-998f-258da1780595",
   "metadata": {},
   "outputs": [],
   "source": []
  },
  {
   "cell_type": "code",
   "execution_count": null,
   "id": "7e2a3e84-5688-4960-b2b6-89bb1eafa361",
   "metadata": {},
   "outputs": [],
   "source": [
    "prediction = final_model.predict(len(df_em), len(df_em)+10)\n",
    "prediction"
   ]
  },
  {
   "cell_type": "code",
   "execution_count": null,
   "id": "d122befe-e2eb-4c17-932c-f218073661af",
   "metadata": {},
   "outputs": [],
   "source": [
    "df_em.plot(legend = True, label = \"Train\", figsize =(10,6))\n",
    "prediction.plot(legend=True, label=\"prediction\")"
   ]
  },
  {
   "cell_type": "code",
   "execution_count": null,
   "id": "7178a49b-be6e-41e3-8bf2-852c4e80596f",
   "metadata": {},
   "outputs": [],
   "source": [
    "import numpy as np"
   ]
  },
  {
   "cell_type": "code",
   "execution_count": null,
   "id": "2cd89af2-4477-40a2-9dfc-d6627237f590",
   "metadata": {},
   "outputs": [],
   "source": [
    "train = df_em[\"emissions\"][:40]\n",
    "test = df_em[\"emissions\"][40:]"
   ]
  },
  {
   "cell_type": "code",
   "execution_count": null,
   "id": "b38295e5-7c81-4b84-9813-47dc1f7d26ca",
   "metadata": {},
   "outputs": [],
   "source": [
    "len(train)"
   ]
  },
  {
   "cell_type": "code",
   "execution_count": null,
   "id": "7c10e9ae-1a1b-4252-a26b-40379ec1b243",
   "metadata": {},
   "outputs": [],
   "source": [
    "import itertools\n",
    "from sklearn.metrics import mean_squared_error\n",
    "\n",
    "p = range(0,7)\n",
    "d = range(0,2)\n",
    "q = range(0,7)"
   ]
  },
  {
   "cell_type": "code",
   "execution_count": null,
   "id": "df0239bb-3aef-4bee-b0b0-b1b9dfeb804e",
   "metadata": {},
   "outputs": [],
   "source": [
    "p = range(0,7)\n",
    "d = range(0,2)\n",
    "q = range(0,7)\n",
    "pdq_comb = list(itertools.product(p, d, q))\n",
    "rmse = []\n",
    "order = []\n",
    "\n",
    "for pdq in pdq_comb:\n",
    "    try:\n",
    "        model = sm.tsa.arima.ARIMA(train, order = pdq).fit()\n",
    "        pred = model.predict(start = 40,end = 49)\n",
    "        error = np.sqrt(mean_squared_error(test, pred))\n",
    "        order.append(pdq)\n",
    "        rmse.append(error)\n",
    "        \n",
    "    except:\n",
    "        continue\n",
    "    "
   ]
  },
  {
   "cell_type": "code",
   "execution_count": null,
   "id": "a7cf85bf-1eb6-45b6-ad9c-d0ef9c31f615",
   "metadata": {},
   "outputs": [],
   "source": [
    "len(test)"
   ]
  },
  {
   "cell_type": "code",
   "execution_count": null,
   "id": "605f0011-80e1-4d85-8774-de2d4d6902a0",
   "metadata": {},
   "outputs": [],
   "source": [
    "rmse = []\n",
    "order = []"
   ]
  },
  {
   "cell_type": "code",
   "execution_count": null,
   "id": "4117cbd9-2d81-4935-b123-62e1697aaa9e",
   "metadata": {},
   "outputs": [],
   "source": [
    "for pdq in pdq_comb:\n",
    "    try:\n",
    "        model = sm.tsa.arima.ARIMA(train, order = pdq).fit()\n",
    "        pred = model.predict(start = 40,end = 49)\n",
    "        error = np.sqrt(mean_squared_error(test, pred))\n",
    "        order.append(pdq)\n",
    "        rmse.append(error)\n",
    "        \n",
    "    except:\n",
    "        continue\n",
    "    "
   ]
  },
  {
   "cell_type": "code",
   "execution_count": null,
   "id": "b09cf37d-81b4-4045-b955-5cebf54f4f3b",
   "metadata": {},
   "outputs": [],
   "source": [
    "results = pd.DataFrame(index = order, data=rmse, columns = [\"RMSE\"])\n",
    "hyperparameters = results.nsmallest(1, \"RMSE\").index[0]"
   ]
  },
  {
   "cell_type": "code",
   "execution_count": null,
   "id": "6a3dea28-889a-4ecc-8c65-30fa60bbc48e",
   "metadata": {},
   "outputs": [],
   "source": [
    "hyperparameters = results.nsmallest(1, \"RMSE\").index[0]"
   ]
  },
  {
   "cell_type": "code",
   "execution_count": null,
   "id": "8927dbf0-effb-4518-bd75-cf8ad826d94a",
   "metadata": {},
   "outputs": [],
   "source": [
    "#######"
   ]
  },
  {
   "cell_type": "code",
   "execution_count": null,
   "id": "bcd8f6be-5849-4686-bc33-1e550a06d379",
   "metadata": {},
   "outputs": [],
   "source": [
    "from statsmodels.tsa.arima_model import ARIMA\n",
    "import statsmodels.api as sm\n",
    "import numpy as np\n",
    "import itertools\n",
    "from sklearn.metrics import mean_squared_error\n",
    "import warnings\n",
    "\n",
    "warnings.filterwarnings(\"ignore\")\n",
    "\n",
    "\n",
    "df_em = df.filter(like = \"em\")[df[\"country\"] == \"China\"].dropna()\n",
    "df_cons = df[df[\"country\"] == \"China\"].filter(like = \"_consumption\").dropna()\\\n",
    ".sum(axis = 1).to_frame().set_axis([\"all_consumptions\"], axis = 1)\n",
    "\n",
    "\n",
    "train = df_em[\"emissions\"][:int(len(df_em[\"emissions\"])*0.8)]\n",
    "test = df_em[\"emissions\"][int(len(df_em[\"emissions\"])*0.8):]\n",
    "\n",
    "train2 = df_cons[\"all_consumptions\"][:int(len(df_cons[\"all_consumptions\"])*0.8)]\n",
    "test2 = df_cons[\"all_consumptions\"][int(len(df_cons[\"all_consumptions\"])*0.8):]\n",
    "\n",
    "p = range(0,5)\n",
    "d = range(0,2)\n",
    "q = range(0,5)\n",
    "\n",
    "pdq_comb = list(itertools.product(p, d, q))\n",
    "\n",
    "rmse = []\n",
    "order = []"
   ]
  },
  {
   "cell_type": "code",
   "execution_count": null,
   "id": "3bc3567f-340b-4cd7-be46-c15e4639691c",
   "metadata": {},
   "outputs": [],
   "source": [
    "df_cons = df[df[\"country\"] == \"Russia\"].filter(like = \"_consumption\").dropna()\\\n",
    ".sum(axis = 1).to_frame().set_axis([\"all_consumptions\"], axis = 1)\n",
    "\n",
    "\n",
    "df_cons.head(2)\n"
   ]
  },
  {
   "cell_type": "code",
   "execution_count": null,
   "id": "6acbac27-08d5-405f-bb39-6fa8b219843f",
   "metadata": {},
   "outputs": [],
   "source": []
  },
  {
   "cell_type": "code",
   "execution_count": null,
   "id": "c1593495-3664-40af-81b5-0c78fc0cf137",
   "metadata": {},
   "outputs": [],
   "source": []
  },
  {
   "cell_type": "code",
   "execution_count": null,
   "id": "de7e72f5-d4a0-4bfd-8839-a342d8fdf869",
   "metadata": {},
   "outputs": [],
   "source": [
    "for pdq in pdq_comb:\n",
    "    try:\n",
    "        model = sm.tsa.arima.ARIMA(train, order = pdq).fit()\n",
    "        pred = model.predict(start = int(len(df_em[\"emissions\"])*0.8),end = (len(df_em[\"emissions\"])-1))\n",
    "        error = np.sqrt(mean_squared_error(test, pred))\n",
    "        order.append(pdq)\n",
    "        rmse.append(error)\n",
    "        \n",
    "        \n",
    "    except:\n",
    "        continue\n"
   ]
  },
  {
   "cell_type": "code",
   "execution_count": null,
   "id": "b06c9319-59d6-4706-a2a6-88daf0746320",
   "metadata": {},
   "outputs": [],
   "source": [
    "#results = pd.DataFrame(index = order, data=rmse, columns = [\"RMSE\"])\n",
    "#hyperparameters = results.nsmallest(1, \"RMSE\").index[0]"
   ]
  },
  {
   "cell_type": "code",
   "execution_count": null,
   "id": "c5fe3e4b-76ef-48e6-a102-54c99441f229",
   "metadata": {},
   "outputs": [],
   "source": [
    "df_cons.plot()"
   ]
  },
  {
   "cell_type": "code",
   "execution_count": null,
   "id": "ca971bbc-0f73-4568-b69b-964e342b3996",
   "metadata": {},
   "outputs": [],
   "source": [
    "results = pd.DataFrame(index = order, data=rmse, columns = [\"RMSE\"])\n",
    "#print(results)"
   ]
  },
  {
   "cell_type": "code",
   "execution_count": null,
   "id": "96554c29-7ae2-4189-97f9-f9bf0d5b74b6",
   "metadata": {},
   "outputs": [],
   "source": [
    "prediction2 = final_model.predict(len(df_cons), len(df_cons)+10)\n",
    "print(prediction2)"
   ]
  },
  {
   "cell_type": "code",
   "execution_count": null,
   "id": "bb8947d5-0e16-455d-a5c4-f0c75cf9b599",
   "metadata": {},
   "outputs": [],
   "source": [
    "prediction2"
   ]
  },
  {
   "cell_type": "code",
   "execution_count": null,
   "id": "64eaffaf-ca08-481d-9f28-6d75c5e941cc",
   "metadata": {},
   "outputs": [],
   "source": [
    "results = pd.DataFrame(index = order, data=rmse, columns = [\"RMSE\"])\n",
    "hyperparameters = results.nsmallest(1, \"RMSE\").index[0]\n",
    "#df_em = df.filter(like = \"em\")[df[\"country\"] == \"Morocco\"].dropna()\n",
    "\n",
    "final_model = sm.tsa.arima.ARIMA(df_em[\"emissions\"], order = hyperparameters).fit()\n",
    "#final_model\n",
    "prediction = final_model.predict(len(df_em), len(df_em)+10)\n",
    "#prediction\n",
    "\n",
    "\n",
    "final_model2 = sm.tsa.arima.ARIMA(df_cons[\"all_consumptions\"], order = hyperparameters).fit()\n",
    "\n",
    "prediction2 = final_model2.predict(len(df_cons), len(df_cons)+10)\n",
    "f, (ax1, ax2) = plt.subplots(1, 2)p\n",
    "\n",
    "#plt.subplot(1,2,1)\n",
    "#plt.subplot(1, 2, 1)\n",
    "#df_em.plot(color = \"cornflowerblue\")\n",
    "#prediction.plot(legend=True, label=\"predictions\", color = \"yellowgreen\")\n",
    "\n",
    "#plt.subplot(1, 2, 2)\n",
    "#df_cons.plot(color = \"cornflowerblue\")\n",
    "#prediction2.plot(legend=True, label=\"predictions\", color = \"yellowgreen\")\n",
    "f, (ax1, ax2) = plt.subplots(1, 2)\n",
    "#fig.suptitle('Horizontally stacked subplots')\n",
    "#ax1.plot(x, y)\n",
    "#ax2.plot(x, -y)\n",
    "\n",
    "\n",
    "\n",
    "ax1.plot(df_em, color = \"cornflowerblue\")\n",
    "ax1.plot(prediction, label=\"predictions\", color = \"yellowgreen\")\n",
    "ax1.set_title(\"ARIMA Emissions Prediction\")\n",
    "ax2.plot(prediction2, label=\"predictions\", color = \"yellowgreen\")\n",
    "ax2.plot(df_cons, color = \"cornflowerblue\")\n",
    "ax2.set_title(\"ARIMA Consumptions Prediction\")\n",
    "\n",
    "plt.tight_layout(4)\n",
    "#ax2.plot(prediction2, label=\"predictions\", color = \"yellowgreen\")\n",
    "#prediction.plot(legend=True, label=\"predictions\", color = \"yellowgreen\")"
   ]
  },
  {
   "cell_type": "markdown",
   "id": "b96f0141-40d2-4095-b9db-8a24719a442c",
   "metadata": {},
   "source": [
    "    def arima_prediction(self, country: strp, n_periods: int):\n",
    "        if self.file is False:\n",
    "            self.download()\n",
    "        if (type(n_periods) not in [int]) or (n_periods < 1):\n",
    "            raise Exception(\"Sorry, prediction periods must be an integer and bigger or equal to 1\")\n",
    "        \n",
    "        warnings.filterwarnings(\"ignore\")\n",
    "\n",
    "        df_em = self.data[self.data[\"country\"] == country]\n",
    "        if (df_em[\"emissions\"].isna().sum()>35):\n",
    "            raise Exception(f\"Sorry, {country} does not have enough emission data to perform ARIMA\")\n",
    "            return\n",
    "        df_em = df_em.filter(like = \"em\").dropna()\n",
    "        train = df_em[\"emissions\"][:int(len(df_em[\"emissions\"])*0.8)]\n",
    "        test = df_em[\"emissions\"][int(len(df_em[\"emissions\"])*0.8):]\n",
    "        \n",
    "        p = range(0,7)\n",
    "        d = range(0,2)\n",
    "        q = range(0,7)\n",
    "\n",
    "        pdq_comb = list(itertools.product(p, d, q))\n",
    "\n",
    "        rmse = []\n",
    "        order = []\n",
    "        \n",
    "        for pdq in pdq_comb:\n",
    "            try:\n",
    "                model = sm.tsa.arima.ARIMA(train, order = pdq).fit()\n",
    "                pred = model.predict(start = int(len(df_em[\"emissions\"])*0.8),end = (len(df_em[\"emissions\"])-1))\n",
    "                error = np.sqrt(mean_squared_error(test, pred))\n",
    "                order.append(pdq)\n",
    "                rmse.append(error)\n",
    "        \n",
    "            except:\n",
    "                continue\n",
    "                \n",
    "        results = pd.DataFrame(index = order, data=rmse, columns = [\"RMSE\"])\n",
    "        hyperparameters = results.nsmallest(1, \"RMSE\").index[0]\n",
    "\n",
    "        final_model = sm.tsa.arima.ARIMA(df_em[\"emissions\"], order = hyperparameters).fit()\n",
    "        prediction = final_model.predict(len(df_em), len(df_em)+n_periods)\n",
    "        \n",
    "        df_em.plot(color = \"cornflowerblue\")\n",
    "        prediction.plot(legend=True, label=\"predictions\", color = \"yellowgreen\")"
   ]
  }
 ],
 "metadata": {
  "kernelspec": {
   "display_name": "Python 3 (ipykernel)",
   "language": "python",
   "name": "python3"
  },
  "language_info": {
   "codemirror_mode": {
    "name": "ipython",
    "version": 3
   },
   "file_extension": ".py",
   "mimetype": "text/x-python",
   "name": "python",
   "nbconvert_exporter": "python",
   "pygments_lexer": "ipython3",
   "version": "3.9.7"
  }
 },
 "nbformat": 4,
 "nbformat_minor": 5
}
